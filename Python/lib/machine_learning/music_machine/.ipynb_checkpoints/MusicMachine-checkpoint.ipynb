{
 "cells": [
  {
   "cell_type": "code",
   "execution_count": null,
   "id": "3ec4e70b",
   "metadata": {},
   "outputs": [],
   "source": []
  },
  {
   "cell_type": "code",
   "execution_count": 18,
   "id": "bc818827",
   "metadata": {},
   "outputs": [
    {
     "name": "stdout",
     "output_type": "stream",
     "text": [
      "Enter How Many Predicitons: 2\n",
      "21, 1\n",
      "20, 0\n",
      "HipHop\n",
      "Dance\n"
     ]
    }
   ],
   "source": [
    "import pandas\n",
    "from sklearn.tree import DecisionTreeClassifier\n",
    "\n",
    "data = pandas.read_csv('music.csv')\n",
    "other_data = data.drop(columns=['genre'])\n",
    "style_data = data['genre']\n",
    "\n",
    "lst = []\n",
    "for _ in range(int(input('Enter How Many Predicitons: '))):\n",
    "    lst.append(input().split(','))\n",
    "\n",
    "model = DecisionTreeClassifier()\n",
    "model.fit(other_data, style_data)\n",
    "\n",
    "predicitons = model.predict(lst)\n",
    "for i in list(predicitons):\n",
    "    print(i)"
   ]
  },
  {
   "cell_type": "code",
   "execution_count": null,
   "id": "371447ab",
   "metadata": {},
   "outputs": [],
   "source": []
  }
 ],
 "metadata": {
  "kernelspec": {
   "display_name": "Python 3 (ipykernel)",
   "language": "python",
   "name": "python3"
  },
  "language_info": {
   "codemirror_mode": {
    "name": "ipython",
    "version": 3
   },
   "file_extension": ".py",
   "mimetype": "text/x-python",
   "name": "python",
   "nbconvert_exporter": "python",
   "pygments_lexer": "ipython3",
   "version": "3.9.7"
  }
 },
 "nbformat": 4,
 "nbformat_minor": 5
}
