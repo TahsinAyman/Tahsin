{
 "cells": [
  {
   "cell_type": "code",
   "execution_count": 253,
   "id": "69d45703",
   "metadata": {},
   "outputs": [
    {
     "data": {
      "text/plain": [
       "['HipHop', 'Dance']"
      ]
     },
     "execution_count": 253,
     "metadata": {},
     "output_type": "execute_result"
    }
   ],
   "source": [
    "import pandas\n",
    "from sklearn.tree import DecisionTreeClassifier\n",
    "import joblib\n",
    "from CheckAccuracy import accuracy\n",
    "\n",
    "\n",
    "model = joblib.load('trained_machine.joblib')\n",
    "predictions = list(model.predict([[21, 1], [21, 0]]))\n",
    "predictions"
   ]
  },
  {
   "cell_type": "code",
   "execution_count": null,
   "id": "eca203fe",
   "metadata": {},
   "outputs": [],
   "source": []
  }
 ],
 "metadata": {
  "kernelspec": {
   "display_name": "Python 3 (ipykernel)",
   "language": "python",
   "name": "python3"
  },
  "language_info": {
   "codemirror_mode": {
    "name": "ipython",
    "version": 3
   },
   "file_extension": ".py",
   "mimetype": "text/x-python",
   "name": "python",
   "nbconvert_exporter": "python",
   "pygments_lexer": "ipython3",
   "version": "3.9.7"
  }
 },
 "nbformat": 4,
 "nbformat_minor": 5
}
