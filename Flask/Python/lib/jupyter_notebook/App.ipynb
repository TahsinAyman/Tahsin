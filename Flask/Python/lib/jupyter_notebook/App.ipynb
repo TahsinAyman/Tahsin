{
 "cells": [
  {
   "cell_type": "code",
   "execution_count": 14,
   "id": "3cb6905e",
   "metadata": {},
   "outputs": [
    {
     "name": "stdout",
     "output_type": "stream",
     "text": [
      "1 2 3 4 5 5\n",
      "4\n"
     ]
    }
   ],
   "source": [
    "def second_max(l: list):\n",
    "    lst = l\n",
    "    max = lst[0]\n",
    "    for i in lst:\n",
    "        if i > max:\n",
    "            max = i \n",
    "    lst = list(set(lst))\n",
    "    lst.remove(max)\n",
    "    max = lst[0]\n",
    "    for i in lst:\n",
    "        if i > max:\n",
    "            max = i \n",
    "    return max \n",
    "    \n",
    "if __name__ == \"__main__\": \n",
    "    lst = list(map(int, input().strip().split()))\n",
    "    print(second_max(lst))"
   ]
  }
 ],
 "metadata": {
  "kernelspec": {
   "display_name": "Python 3 (ipykernel)",
   "language": "python",
   "name": "python3"
  },
  "language_info": {
   "codemirror_mode": {
    "name": "ipython",
    "version": 3
   },
   "file_extension": ".py",
   "mimetype": "text/x-python",
   "name": "python",
   "nbconvert_exporter": "python",
   "pygments_lexer": "ipython3",
   "version": "3.9.7"
  }
 },
 "nbformat": 4,
 "nbformat_minor": 5
}
